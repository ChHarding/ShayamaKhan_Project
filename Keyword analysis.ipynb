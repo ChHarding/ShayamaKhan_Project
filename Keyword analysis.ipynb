{
 "cells": [
  {
   "cell_type": "markdown",
   "id": "1e2e5ed4",
   "metadata": {},
   "source": [
    "# Qualitative Data Analyzer\n",
    "\n",
    "This notebook extracts and analyzes paragraphs from a PDF containing a keyword and classifies their tone using OpenAI."
   ]
  },
  {
   "cell_type": "code",
   "execution_count": 1,
   "id": "b493fc40",
   "metadata": {},
   "outputs": [],
   "source": [
    "import os\n",
    "import fitz  # PyMuPDF\n",
    "import csv\n",
    "import pandas as pd\n",
    "from openai import OpenAI\n",
    "from keys import open_ai_api_key\n",
    "\n",
    "client = OpenAI(api_key=open_ai_api_key)"
   ]
  },
  {
   "cell_type": "code",
   "execution_count": 2,
   "id": "8400f16b",
   "metadata": {},
   "outputs": [
    {
     "ename": "ModuleNotFoundError",
     "evalue": "No module named 'ipywidgets'",
     "output_type": "error",
     "traceback": [
      "\u001b[31m---------------------------------------------------------------------------\u001b[39m",
      "\u001b[31mModuleNotFoundError\u001b[39m                       Traceback (most recent call last)",
      "\u001b[36mCell\u001b[39m\u001b[36m \u001b[39m\u001b[32mIn[2]\u001b[39m\u001b[32m, line 1\u001b[39m\n\u001b[32m----> \u001b[39m\u001b[32m1\u001b[39m \u001b[38;5;28;01mimport\u001b[39;00m\u001b[38;5;250m \u001b[39m\u001b[34;01mipywidgets\u001b[39;00m\u001b[38;5;250m \u001b[39m\u001b[38;5;28;01mas\u001b[39;00m\u001b[38;5;250m \u001b[39m\u001b[34;01mwidgets\u001b[39;00m\n\u001b[32m      2\u001b[39m \u001b[38;5;28;01mfrom\u001b[39;00m\u001b[38;5;250m \u001b[39m\u001b[34;01mIPython\u001b[39;00m\u001b[34;01m.\u001b[39;00m\u001b[34;01mdisplay\u001b[39;00m\u001b[38;5;250m \u001b[39m\u001b[38;5;28;01mimport\u001b[39;00m display\n\u001b[32m      4\u001b[39m pdf_path_widget = widgets.Text(value=\u001b[33m'\u001b[39m\u001b[33mPDF 1.pdf\u001b[39m\u001b[33m'\u001b[39m, description=\u001b[33m'\u001b[39m\u001b[33mPDF Path:\u001b[39m\u001b[33m'\u001b[39m)\n",
      "\u001b[31mModuleNotFoundError\u001b[39m: No module named 'ipywidgets'"
     ]
    }
   ],
   "source": [
    "import ipywidgets as widgets\n",
    "from IPython.display import display\n",
    "\n",
    "pdf_path_widget = widgets.Text(value='PDF 1.pdf', description='PDF Path:')\n",
    "keyword_widget = widgets.Text(value='gender', description='Keyword:')\n",
    "author_statement_widget = widgets.Text(\n",
    "    value='gender has an impact on the level of cybersickness experienced by users of immersive technology',\n",
    "    description='Author Statement:',\n",
    "    layout=widgets.Layout(width='80%')\n",
    ")\n",
    "display(pdf_path_widget, keyword_widget, author_statement_widget)"
   ]
  },
  {
   "cell_type": "code",
   "execution_count": null,
   "id": "a17b07e6",
   "metadata": {},
   "outputs": [],
   "source": [
    "def extract_paragraphs(text, client):\n",
    "    prompt = (\n",
    "        \"Split the following text into paragraphs. \"\n",
    "        \"After each paragraph, output the marker <P>.\\n\\n\"\n",
    "        + text\n",
    "    )\n",
    "    paragraphs = []\n",
    "    buffer = \"\"\n",
    "    with client.chat.completions.create(\n",
    "        model=\"gpt-4o-mini\",\n",
    "        messages=[{\"role\": \"user\", \"content\": prompt}],\n",
    "        stream=True,\n",
    "        temperature=0\n",
    "    ) as stream:\n",
    "        for chunk in stream:\n",
    "            if hasattr(chunk, \"choices\") and chunk.choices:\n",
    "                delta = chunk.choices[0].delta\n",
    "                if hasattr(delta, \"content\") and delta.content:\n",
    "                    buffer += delta.content\n",
    "    while \"<P>\" in buffer:\n",
    "        para, buffer = buffer.split(\"<P>\", 1)\n",
    "        para = para.strip()\n",
    "        if para:\n",
    "            paragraphs.append(para)\n",
    "    return paragraphs\n",
    "\n",
    "def classify_tone(paragraph, author_statement, client):\n",
    "    prompt = (\n",
    "        f\"Classify the tone of the following paragraph with respect to the statement: {author_statement}\\n\\n\"\n",
    "        \"There are three possible tones:\\n\"\n",
    "        \"1. Supportive: The paragraph affirms or supports the presence of an effect, relationship, or influence of the keyword.\\n\"\n",
    "        \"2. Neutral: The paragraph mentions the keyword without taking a stance.\\n\"\n",
    "        \"3. Opposing: The paragraph indicates no effect or contradictory evidence.\\n\\n\"\n",
    "        f\"Paragraph: {paragraph}\\n\\n\"\n",
    "        \"Respond with: Supportive, Neutral, or Opposing, and explain why.\"\n",
    "    )\n",
    "    response = client.chat.completions.create(\n",
    "        model=\"gpt-4o\",\n",
    "        messages=[\n",
    "            {\"role\": \"system\", \"content\": \"You are a helpful academic tone analysis assistant.\"},\n",
    "            {\"role\": \"user\", \"content\": prompt}\n",
    "        ],\n",
    "        temperature=0\n",
    "    )\n",
    "    return response.choices[0].message.content.strip()"
   ]
  },
  {
   "cell_type": "code",
   "execution_count": null,
   "id": "97458328",
   "metadata": {},
   "outputs": [],
   "source": [
    "pdf_path = pdf_path_widget.value\n",
    "keyword = keyword_widget.value\n",
    "author_statement = author_statement_widget.value\n",
    "\n",
    "doc = fitz.open(pdf_path)\n",
    "all_paragraphs = []\n",
    "for page in doc:\n",
    "    page_text = page.get_text(\"text\")\n",
    "    paragraphs = extract_paragraphs(page_text, client)\n",
    "    all_paragraphs.extend(paragraphs)\n",
    "\n",
    "keyword_paragraphs = [p for p in all_paragraphs if keyword.lower() in p.lower()]\n",
    "print(f\"Found {len(keyword_paragraphs)} paragraphs containing the keyword '{keyword}'.\")\n",
    "\n",
    "results = []\n",
    "for i, para in enumerate(keyword_paragraphs):\n",
    "    tone = classify_tone(para, author_statement, client)\n",
    "    results.append({\n",
    "        \"Paragraph #\": i+1,\n",
    "        \"Keyword\": keyword.capitalize(),\n",
    "        \"Paragraph\": para,\n",
    "        \"Tone\": tone\n",
    "    })\n",
    "\n",
    "df = pd.DataFrame(results)\n",
    "df"
   ]
  },
  {
   "cell_type": "code",
   "execution_count": null,
   "id": "e6d83dc7",
   "metadata": {},
   "outputs": [],
   "source": [
    "df.to_excel(\"paragraphs_with_tone.xlsx\", index=False)\n",
    "print(\"Results saved to paragraphs_with_tone.xlsx\")"
   ]
  }
 ],
 "metadata": {
  "kernelspec": {
   "display_name": ".venv",
   "language": "python",
   "name": "python3"
  },
  "language_info": {
   "codemirror_mode": {
    "name": "ipython",
    "version": 3
   },
   "file_extension": ".py",
   "mimetype": "text/x-python",
   "name": "python",
   "nbconvert_exporter": "python",
   "pygments_lexer": "ipython3",
   "version": "3.13.3"
  }
 },
 "nbformat": 4,
 "nbformat_minor": 5
}
